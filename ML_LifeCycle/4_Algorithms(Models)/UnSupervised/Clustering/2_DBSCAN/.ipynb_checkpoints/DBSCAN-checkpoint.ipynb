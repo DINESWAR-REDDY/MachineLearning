{
 "cells": [
  {
   "cell_type": "code",
   "execution_count": 23,
   "id": "c957f812",
   "metadata": {},
   "outputs": [],
   "source": [
    "from sklearn.cluster import DBSCAN\n",
    "from sklearn.datasets import make_moons\n",
    "import matplotlib.pyplot as plt\n",
    "%matplotlib inline"
   ]
  },
  {
   "cell_type": "code",
   "execution_count": 2,
   "id": "5dff1514",
   "metadata": {},
   "outputs": [],
   "source": [
    "X, y = make_moons(n_samples=1000, noise=0.05)"
   ]
  },
  {
   "cell_type": "code",
   "execution_count": 3,
   "id": "b9b6f69a",
   "metadata": {},
   "outputs": [
    {
     "data": {
      "text/html": [
       "<style>#sk-container-id-1 {color: black;background-color: white;}#sk-container-id-1 pre{padding: 0;}#sk-container-id-1 div.sk-toggleable {background-color: white;}#sk-container-id-1 label.sk-toggleable__label {cursor: pointer;display: block;width: 100%;margin-bottom: 0;padding: 0.3em;box-sizing: border-box;text-align: center;}#sk-container-id-1 label.sk-toggleable__label-arrow:before {content: \"▸\";float: left;margin-right: 0.25em;color: #696969;}#sk-container-id-1 label.sk-toggleable__label-arrow:hover:before {color: black;}#sk-container-id-1 div.sk-estimator:hover label.sk-toggleable__label-arrow:before {color: black;}#sk-container-id-1 div.sk-toggleable__content {max-height: 0;max-width: 0;overflow: hidden;text-align: left;background-color: #f0f8ff;}#sk-container-id-1 div.sk-toggleable__content pre {margin: 0.2em;color: black;border-radius: 0.25em;background-color: #f0f8ff;}#sk-container-id-1 input.sk-toggleable__control:checked~div.sk-toggleable__content {max-height: 200px;max-width: 100%;overflow: auto;}#sk-container-id-1 input.sk-toggleable__control:checked~label.sk-toggleable__label-arrow:before {content: \"▾\";}#sk-container-id-1 div.sk-estimator input.sk-toggleable__control:checked~label.sk-toggleable__label {background-color: #d4ebff;}#sk-container-id-1 div.sk-label input.sk-toggleable__control:checked~label.sk-toggleable__label {background-color: #d4ebff;}#sk-container-id-1 input.sk-hidden--visually {border: 0;clip: rect(1px 1px 1px 1px);clip: rect(1px, 1px, 1px, 1px);height: 1px;margin: -1px;overflow: hidden;padding: 0;position: absolute;width: 1px;}#sk-container-id-1 div.sk-estimator {font-family: monospace;background-color: #f0f8ff;border: 1px dotted black;border-radius: 0.25em;box-sizing: border-box;margin-bottom: 0.5em;}#sk-container-id-1 div.sk-estimator:hover {background-color: #d4ebff;}#sk-container-id-1 div.sk-parallel-item::after {content: \"\";width: 100%;border-bottom: 1px solid gray;flex-grow: 1;}#sk-container-id-1 div.sk-label:hover label.sk-toggleable__label {background-color: #d4ebff;}#sk-container-id-1 div.sk-serial::before {content: \"\";position: absolute;border-left: 1px solid gray;box-sizing: border-box;top: 0;bottom: 0;left: 50%;z-index: 0;}#sk-container-id-1 div.sk-serial {display: flex;flex-direction: column;align-items: center;background-color: white;padding-right: 0.2em;padding-left: 0.2em;position: relative;}#sk-container-id-1 div.sk-item {position: relative;z-index: 1;}#sk-container-id-1 div.sk-parallel {display: flex;align-items: stretch;justify-content: center;background-color: white;position: relative;}#sk-container-id-1 div.sk-item::before, #sk-container-id-1 div.sk-parallel-item::before {content: \"\";position: absolute;border-left: 1px solid gray;box-sizing: border-box;top: 0;bottom: 0;left: 50%;z-index: -1;}#sk-container-id-1 div.sk-parallel-item {display: flex;flex-direction: column;z-index: 1;position: relative;background-color: white;}#sk-container-id-1 div.sk-parallel-item:first-child::after {align-self: flex-end;width: 50%;}#sk-container-id-1 div.sk-parallel-item:last-child::after {align-self: flex-start;width: 50%;}#sk-container-id-1 div.sk-parallel-item:only-child::after {width: 0;}#sk-container-id-1 div.sk-dashed-wrapped {border: 1px dashed gray;margin: 0 0.4em 0.5em 0.4em;box-sizing: border-box;padding-bottom: 0.4em;background-color: white;}#sk-container-id-1 div.sk-label label {font-family: monospace;font-weight: bold;display: inline-block;line-height: 1.2em;}#sk-container-id-1 div.sk-label-container {text-align: center;}#sk-container-id-1 div.sk-container {/* jupyter's `normalize.less` sets `[hidden] { display: none; }` but bootstrap.min.css set `[hidden] { display: none !important; }` so we also need the `!important` here to be able to override the default hidden behavior on the sphinx rendered scikit-learn.org. See: https://github.com/scikit-learn/scikit-learn/issues/21755 */display: inline-block !important;position: relative;}#sk-container-id-1 div.sk-text-repr-fallback {display: none;}</style><div id=\"sk-container-id-1\" class=\"sk-top-container\"><div class=\"sk-text-repr-fallback\"><pre>DBSCAN(eps=0.05)</pre><b>In a Jupyter environment, please rerun this cell to show the HTML representation or trust the notebook. <br />On GitHub, the HTML representation is unable to render, please try loading this page with nbviewer.org.</b></div><div class=\"sk-container\" hidden><div class=\"sk-item\"><div class=\"sk-estimator sk-toggleable\"><input class=\"sk-toggleable__control sk-hidden--visually\" id=\"sk-estimator-id-1\" type=\"checkbox\" checked><label for=\"sk-estimator-id-1\" class=\"sk-toggleable__label sk-toggleable__label-arrow\">DBSCAN</label><div class=\"sk-toggleable__content\"><pre>DBSCAN(eps=0.05)</pre></div></div></div></div></div>"
      ],
      "text/plain": [
       "DBSCAN(eps=0.05)"
      ]
     },
     "execution_count": 3,
     "metadata": {},
     "output_type": "execute_result"
    }
   ],
   "source": [
    "dbscan = DBSCAN(eps=0.05, min_samples=5)\n",
    "dbscan.fit(X)"
   ]
  },
  {
   "cell_type": "code",
   "execution_count": 27,
   "id": "561db7da",
   "metadata": {},
   "outputs": [
    {
     "data": {
      "text/plain": [
       "array([-1,  2,  0,  1,  2,  3,  0, -1,  0,  0,  0,  0,  1,  2,  2,  3,  2,\n",
       "        4,  0,  3,  5,  2,  3,  1,  2,  2,  2,  4,  0,  4,  4,  4,  1,  0,\n",
       "        0,  2,  4,  4,  2,  4,  4,  2,  1,  4,  1,  4,  4,  2,  0,  2,  2,\n",
       "        1,  4,  0,  2,  1,  4,  2,  1, -1,  1,  6,  4, -1,  4,  4,  6,  1,\n",
       "        0,  4,  5,  2,  2,  0,  3,  0,  1,  4,  0, -1, -1,  1,  6,  6,  0,\n",
       "        1,  0,  4,  4, -1,  4,  0,  4, -1,  4,  0,  2,  0,  2,  1,  4,  0,\n",
       "        2,  6,  2,  6, -1,  2,  1,  1,  1,  1,  0,  2,  0,  2,  1,  2, -1,\n",
       "       -1,  0,  2,  1,  4,  2,  0,  2,  0,  2,  2,  0,  2,  3,  0,  1,  0,\n",
       "        0, -1,  0,  0,  4,  3,  0,  4,  6,  2,  4,  5,  3,  0,  2,  1,  2,\n",
       "        2,  1,  4,  2,  2,  0,  2,  4,  4,  2,  2,  1,  0,  0,  3,  2,  2,\n",
       "        4,  6,  1,  2,  0,  0,  1, -1,  4,  3,  3,  2,  1,  2,  2, -1,  1,\n",
       "        0,  2,  2, -1,  4,  0,  2,  0,  2,  4,  2,  4,  0,  0,  1,  3,  2,\n",
       "        4,  1,  6,  2,  0,  4,  4,  4,  4,  2,  3,  2,  4,  3,  1,  0,  6,\n",
       "        2,  0,  0,  4,  2,  1,  4,  4,  1,  1,  4,  4,  2,  1, -1,  2,  2,\n",
       "        0,  2, -1,  4,  2,  4,  2,  0,  1,  0,  4,  6,  2,  6,  1,  1,  2,\n",
       "       -1,  5, -1,  6,  1,  5,  0,  2,  2,  0,  4,  0,  0, -1,  4,  0,  2,\n",
       "        2,  1,  0,  2,  2,  2,  5,  1,  2,  4,  2,  2,  5,  1,  4,  2,  2,\n",
       "        2,  2,  5,  1,  4,  0,  5,  0,  4,  0,  0,  2,  2,  2,  3,  2,  1,\n",
       "        2,  2, -1,  4,  1,  2,  4,  0,  1,  2,  2,  0,  1,  2,  6,  2,  2,\n",
       "        0,  0,  0,  3,  4,  0,  3,  5,  4,  4,  4,  0,  0,  0,  0,  1,  0,\n",
       "        1,  4,  1,  2,  6,  0,  1,  0,  0,  1,  4,  0,  2,  5,  0,  0,  3,\n",
       "        1,  0,  2,  3,  1,  2,  1,  1,  2, -1,  3,  3,  0,  6,  5,  3,  1,\n",
       "        2,  5,  0,  2,  4,  0,  0,  2,  2, -1,  4,  0,  1,  3,  0,  0,  2,\n",
       "        1,  2,  4,  4,  1,  2,  0,  2,  3,  2,  2,  0,  5,  0,  4,  2,  4,\n",
       "        0,  2,  0,  1,  0,  1,  1,  0,  2,  2,  0,  4,  1,  0,  3, -1,  6,\n",
       "        2,  0,  2,  0,  0,  1,  0,  2,  1,  1,  1,  1,  0,  0,  2,  2,  6,\n",
       "        2,  2,  1,  1,  4,  4, -1,  4,  1,  3,  2,  1,  2,  5,  3,  1,  2,\n",
       "        0,  4,  0,  0,  2,  2,  0,  2,  0,  2,  5,  2,  0,  0,  1,  2,  0,\n",
       "        0,  2,  3,  4,  2,  2,  2,  0, -1,  4,  0,  0,  1,  2,  4, -1,  4,\n",
       "        2,  2,  0,  2, -1,  1,  0,  4,  1, -1,  0,  1,  4,  4,  0,  4, -1,\n",
       "        4, -1,  1,  3,  3,  2,  0,  1,  0,  1,  3,  0,  2,  4,  2,  0,  3,\n",
       "        2,  4,  2,  1,  5,  4, -1,  2,  2,  2,  2,  2,  2,  2,  4,  4,  4,\n",
       "        2, -1,  4,  0,  5,  0,  0,  2,  1,  0, -1,  0,  4,  1,  0,  3,  1,\n",
       "        1,  5,  0,  3,  0,  1,  5,  3,  3,  5,  4,  4,  2,  2,  4,  1,  2,\n",
       "        0,  4,  0,  0,  4,  2,  6,  0,  1, -1,  5, -1,  1,  4,  4,  0,  5,\n",
       "        1,  2,  4,  2,  0,  4,  5,  2,  3,  1,  2, -1,  0,  2,  0,  5,  4,\n",
       "        0,  4,  3,  6,  0,  0,  2,  4,  0,  3,  3,  0,  5,  1,  3,  2,  5,\n",
       "        3,  4,  4,  4, -1, -1,  2,  1,  0,  0,  2,  1,  1,  4,  2,  1,  1,\n",
       "        5,  1,  1,  1,  1,  5,  4,  0,  2,  1,  1,  0,  6,  4,  1,  1,  1,\n",
       "        1,  1,  6,  2,  2,  2,  3,  1,  0,  5,  4,  1, -1,  6,  4,  5,  2,\n",
       "        0,  0,  5, -1,  0,  0,  2,  2,  4,  0,  4,  2,  0,  4,  4,  2, -1,\n",
       "        0,  0,  4,  0,  3,  3,  0,  1,  3,  2,  0, -1,  1, -1,  2,  3,  4,\n",
       "        3,  2,  1,  1,  1,  4,  6,  5,  1,  0,  1,  0,  1,  0,  2,  1,  3,\n",
       "        1,  2,  1,  4,  4,  1,  6,  0,  1,  0,  0,  1,  4,  6,  1,  2,  2,\n",
       "        6,  4,  0,  2,  5, -1,  2,  0,  3, -1, -1,  0,  0,  2,  3,  1,  2,\n",
       "        1,  2, -1,  2,  4, -1,  2,  0,  2,  0,  0,  0,  5, -1, -1,  4,  2,\n",
       "        6,  3,  0,  3,  3,  0,  1,  2,  0,  1, -1,  0,  1, -1,  3,  0,  1,\n",
       "        0,  4,  2,  5,  1,  0,  4,  0,  0,  2,  0, -1,  2,  4, -1,  2,  2,\n",
       "        2,  5,  5,  6,  6, -1,  2,  0,  2,  1,  4, -1,  0,  0,  4,  0,  3,\n",
       "        5,  4,  4,  1,  4,  3,  0,  1,  4,  0,  2,  4,  0,  0,  2,  2,  0,\n",
       "        0,  1,  2,  0,  6,  2,  2,  6, -1,  2,  2,  0,  0,  2,  0,  2,  6,\n",
       "        5,  1,  0,  5,  0,  2,  4,  4,  2,  1,  2,  2,  1,  3,  0,  2,  3,\n",
       "        1,  4,  1,  2,  0,  6,  0,  3, -1,  1,  4,  6,  5,  0,  1,  1,  1,\n",
       "        5,  2,  4,  3,  2,  2,  3,  2,  2,  3,  2,  3,  5,  1,  0,  1,  0,\n",
       "        0,  0,  2, -1,  3,  3,  2,  1, -1,  0,  1,  0,  5,  1,  0,  4,  1,\n",
       "        2,  0,  5,  2,  2,  1,  4,  4,  4, -1,  4,  3,  1, -1,  3,  6,  0,\n",
       "        4,  4,  1,  4,  0,  0,  0,  2,  1,  2,  1,  4,  3,  1,  2,  2,  2,\n",
       "        0,  5,  1,  0,  0,  0,  0,  2,  5,  3,  0,  2,  4,  1,  0,  0,  5,\n",
       "        3,  3,  2,  0,  0,  4,  2,  4,  2,  1,  2,  0,  4,  2],\n",
       "      dtype=int64)"
      ]
     },
     "execution_count": 27,
     "metadata": {},
     "output_type": "execute_result"
    }
   ],
   "source": [
    "#labels of all instances \n",
    "dbscan.labels_"
   ]
  },
  {
   "cell_type": "code",
   "execution_count": 28,
   "id": "40d3a386",
   "metadata": {},
   "outputs": [
    {
     "data": {
      "text/plain": [
       "array([  2,   3,   4,   5,   6,   8,   9,  10,  13,  14,  15,  16,  17,\n",
       "        19,  20,  21,  23,  24,  25,  26,  28,  29,  30,  31,  32,  33,\n",
       "        34,  35,  36,  37,  38,  39,  40,  41,  42,  43,  44,  46,  48,\n",
       "        49,  50,  52,  53,  55,  57,  58,  60,  61,  62,  65,  66,  67,\n",
       "        69,  70,  71,  72,  73,  74,  75,  76,  77,  78,  81,  82,  83,\n",
       "        84,  85,  86,  87,  88,  90,  91,  92,  94,  95,  96,  97,  98,\n",
       "        99, 100, 101, 102, 104, 105, 107, 109, 110, 113, 114, 115, 116,\n",
       "       117, 120, 121, 122, 123, 124, 127, 128, 129, 130, 131, 134, 135,\n",
       "       136, 139, 140, 141, 142, 143, 144, 145, 146, 147, 148, 149, 150,\n",
       "       151, 152, 154, 155, 156, 157, 158, 159, 160, 161, 162, 164, 165,\n",
       "       166, 167, 169, 170, 171, 173, 174, 175, 176, 178, 179, 180, 181,\n",
       "       182, 183, 186, 187, 188, 189, 191, 192, 193, 194, 195, 196, 197,\n",
       "       198, 199, 200, 201, 202, 203, 205, 209, 210, 212, 213, 214, 215,\n",
       "       216, 217, 218, 219, 220, 221, 223, 224, 225, 226, 227, 228, 229,\n",
       "       230, 231, 233, 236, 237, 238, 239, 241, 242, 243, 244, 245, 246,\n",
       "       247, 248, 250, 251, 252, 253, 254, 256, 258, 259, 260, 261, 262,\n",
       "       264, 265, 266, 267, 269, 270, 273, 274, 275, 276, 277, 278, 279,\n",
       "       280, 281, 282, 283, 284, 285, 286, 287, 289, 290, 291, 292, 293,\n",
       "       294, 295, 297, 298, 299, 300, 301, 302, 303, 304, 306, 307, 312,\n",
       "       313, 314, 315, 317, 318, 319, 321, 322, 323, 325, 326, 327, 330,\n",
       "       331, 332, 333, 334, 335, 336, 337, 338, 339, 340, 341, 342, 343,\n",
       "       344, 345, 346, 347, 349, 350, 351, 352, 353, 354, 355, 358, 359,\n",
       "       360, 361, 362, 363, 364, 365, 367, 368, 369, 370, 371, 372, 374,\n",
       "       375, 376, 377, 378, 379, 380, 381, 382, 384, 385, 387, 388, 389,\n",
       "       390, 391, 392, 393, 394, 395, 397, 398, 399, 401, 402, 403, 406,\n",
       "       407, 408, 411, 412, 413, 414, 415, 416, 417, 418, 419, 420, 421,\n",
       "       424, 425, 426, 427, 428, 429, 430, 433, 434, 435, 436, 437, 438,\n",
       "       439, 441, 442, 443, 444, 445, 446, 447, 449, 450, 451, 452, 453,\n",
       "       454, 456, 458, 459, 460, 461, 462, 463, 465, 466, 467, 468, 469,\n",
       "       470, 471, 472, 473, 474, 476, 477, 481, 482, 483, 487, 489, 490,\n",
       "       492, 493, 494, 495, 496, 498, 499, 503, 504, 505, 506, 507, 508,\n",
       "       510, 512, 513, 514, 515, 516, 517, 518, 519, 520, 521, 523, 524,\n",
       "       525, 526, 527, 529, 530, 532, 534, 535, 536, 537, 538, 539, 540,\n",
       "       541, 543, 544, 547, 549, 550, 551, 552, 553, 555, 556, 557, 559,\n",
       "       560, 561, 562, 563, 564, 565, 566, 568, 569, 570, 571, 573, 574,\n",
       "       575, 576, 577, 578, 579, 580, 581, 582, 584, 585, 586, 588, 590,\n",
       "       591, 592, 593, 594, 595, 596, 597, 598, 599, 600, 601, 602, 604,\n",
       "       605, 607, 609, 610, 611, 612, 613, 614, 615, 616, 617, 618, 619,\n",
       "       620, 622, 623, 624, 625, 626, 628, 629, 630, 631, 632, 636, 637,\n",
       "       638, 640, 641, 644, 645, 646, 647, 648, 649, 650, 651, 652, 653,\n",
       "       654, 655, 656, 657, 658, 659, 660, 661, 662, 663, 664, 665, 666,\n",
       "       668, 669, 670, 671, 672, 673, 674, 676, 677, 678, 679, 680, 681,\n",
       "       682, 684, 685, 686, 687, 688, 690, 691, 693, 694, 695, 697, 698,\n",
       "       699, 700, 701, 702, 704, 706, 707, 709, 712, 713, 714, 715, 716,\n",
       "       717, 718, 719, 720, 721, 722, 723, 724, 725, 726, 727, 728, 729,\n",
       "       731, 732, 733, 734, 735, 737, 739, 740, 741, 742, 743, 744, 745,\n",
       "       746, 747, 748, 749, 750, 751, 752, 754, 755, 756, 759, 760, 761,\n",
       "       762, 763, 764, 765, 766, 768, 771, 772, 773, 774, 775, 776, 777,\n",
       "       780, 781, 783, 784, 786, 788, 789, 790, 793, 794, 797, 798, 800,\n",
       "       801, 802, 803, 804, 805, 806, 807, 808, 809, 811, 812, 814, 815,\n",
       "       816, 817, 818, 820, 822, 823, 824, 825, 826, 828, 829, 830, 831,\n",
       "       832, 835, 836, 837, 838, 839, 840, 841, 842, 844, 848, 851, 852,\n",
       "       853, 854, 856, 857, 859, 860, 861, 862, 863, 864, 865, 866, 867,\n",
       "       868, 869, 870, 871, 872, 873, 874, 875, 876, 877, 878, 879, 880,\n",
       "       881, 882, 884, 885, 886, 887, 888, 891, 894, 895, 896, 897, 898,\n",
       "       899, 901, 903, 904, 905, 907, 908, 909, 910, 911, 912, 913, 914,\n",
       "       915, 916, 917, 918, 919, 922, 923, 924, 925, 927, 930, 931, 933,\n",
       "       934, 935, 937, 938, 939, 941, 943, 945, 946, 947, 949, 950, 951,\n",
       "       952, 954, 955, 956, 957, 958, 959, 960, 961, 962, 963, 966, 967,\n",
       "       968, 969, 972, 973, 974, 975, 976, 977, 978, 979, 980, 981, 983,\n",
       "       984, 985, 986, 989, 990, 991, 992, 993, 994, 995, 997, 998, 999],\n",
       "      dtype=int64)"
      ]
     },
     "execution_count": 28,
     "metadata": {},
     "output_type": "execute_result"
    }
   ],
   "source": [
    "# indices of the core instances \n",
    "dbscan.core_sample_indices_"
   ]
  },
  {
   "cell_type": "code",
   "execution_count": 29,
   "id": "4dad3f42",
   "metadata": {},
   "outputs": [
    {
     "data": {
      "text/plain": [
       "array([[ 1.64516454, -0.22653014],\n",
       "       [ 0.03931133,  0.17425628],\n",
       "       [ 0.99808691,  0.07238772],\n",
       "       ...,\n",
       "       [ 1.760033  , -0.18814715],\n",
       "       [-0.54417266,  0.81812136],\n",
       "       [ 0.84951636,  0.59679455]])"
      ]
     },
     "execution_count": 29,
     "metadata": {},
     "output_type": "execute_result"
    }
   ],
   "source": [
    "# Core instances them selves\n",
    "dbscan.components_"
   ]
  }
 ],
 "metadata": {
  "kernelspec": {
   "display_name": "Python 3 (ipykernel)",
   "language": "python",
   "name": "python3"
  },
  "language_info": {
   "codemirror_mode": {
    "name": "ipython",
    "version": 3
   },
   "file_extension": ".py",
   "mimetype": "text/x-python",
   "name": "python",
   "nbconvert_exporter": "python",
   "pygments_lexer": "ipython3",
   "version": "3.10.5"
  }
 },
 "nbformat": 4,
 "nbformat_minor": 5
}
