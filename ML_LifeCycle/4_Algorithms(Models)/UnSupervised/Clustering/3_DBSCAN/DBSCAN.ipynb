{
 "cells": [
  {
   "cell_type": "code",
   "execution_count": 8,
   "id": "c957f812",
   "metadata": {},
   "outputs": [],
   "source": [
    "from sklearn.datasets import make_moons\n",
    "from sklearn.cluster import DBSCAN\n",
    "from sklearn.metrics import silhouette_samples, silhouette_score\n",
    "\n",
    "import matplotlib.pyplot as plt\n",
    "import matplotlib.cm as cm\n",
    "import numpy as np"
   ]
  },
  {
   "cell_type": "code",
   "execution_count": 9,
   "id": "5dff1514",
   "metadata": {},
   "outputs": [],
   "source": [
    "X, y = make_moons(n_samples=1000, noise=0.05)"
   ]
  },
  {
   "cell_type": "code",
   "execution_count": 10,
   "id": "b9b6f69a",
   "metadata": {},
   "outputs": [
    {
     "data": {
      "text/html": [
       "<style>#sk-container-id-1 {color: black;background-color: white;}#sk-container-id-1 pre{padding: 0;}#sk-container-id-1 div.sk-toggleable {background-color: white;}#sk-container-id-1 label.sk-toggleable__label {cursor: pointer;display: block;width: 100%;margin-bottom: 0;padding: 0.3em;box-sizing: border-box;text-align: center;}#sk-container-id-1 label.sk-toggleable__label-arrow:before {content: \"▸\";float: left;margin-right: 0.25em;color: #696969;}#sk-container-id-1 label.sk-toggleable__label-arrow:hover:before {color: black;}#sk-container-id-1 div.sk-estimator:hover label.sk-toggleable__label-arrow:before {color: black;}#sk-container-id-1 div.sk-toggleable__content {max-height: 0;max-width: 0;overflow: hidden;text-align: left;background-color: #f0f8ff;}#sk-container-id-1 div.sk-toggleable__content pre {margin: 0.2em;color: black;border-radius: 0.25em;background-color: #f0f8ff;}#sk-container-id-1 input.sk-toggleable__control:checked~div.sk-toggleable__content {max-height: 200px;max-width: 100%;overflow: auto;}#sk-container-id-1 input.sk-toggleable__control:checked~label.sk-toggleable__label-arrow:before {content: \"▾\";}#sk-container-id-1 div.sk-estimator input.sk-toggleable__control:checked~label.sk-toggleable__label {background-color: #d4ebff;}#sk-container-id-1 div.sk-label input.sk-toggleable__control:checked~label.sk-toggleable__label {background-color: #d4ebff;}#sk-container-id-1 input.sk-hidden--visually {border: 0;clip: rect(1px 1px 1px 1px);clip: rect(1px, 1px, 1px, 1px);height: 1px;margin: -1px;overflow: hidden;padding: 0;position: absolute;width: 1px;}#sk-container-id-1 div.sk-estimator {font-family: monospace;background-color: #f0f8ff;border: 1px dotted black;border-radius: 0.25em;box-sizing: border-box;margin-bottom: 0.5em;}#sk-container-id-1 div.sk-estimator:hover {background-color: #d4ebff;}#sk-container-id-1 div.sk-parallel-item::after {content: \"\";width: 100%;border-bottom: 1px solid gray;flex-grow: 1;}#sk-container-id-1 div.sk-label:hover label.sk-toggleable__label {background-color: #d4ebff;}#sk-container-id-1 div.sk-serial::before {content: \"\";position: absolute;border-left: 1px solid gray;box-sizing: border-box;top: 0;bottom: 0;left: 50%;z-index: 0;}#sk-container-id-1 div.sk-serial {display: flex;flex-direction: column;align-items: center;background-color: white;padding-right: 0.2em;padding-left: 0.2em;position: relative;}#sk-container-id-1 div.sk-item {position: relative;z-index: 1;}#sk-container-id-1 div.sk-parallel {display: flex;align-items: stretch;justify-content: center;background-color: white;position: relative;}#sk-container-id-1 div.sk-item::before, #sk-container-id-1 div.sk-parallel-item::before {content: \"\";position: absolute;border-left: 1px solid gray;box-sizing: border-box;top: 0;bottom: 0;left: 50%;z-index: -1;}#sk-container-id-1 div.sk-parallel-item {display: flex;flex-direction: column;z-index: 1;position: relative;background-color: white;}#sk-container-id-1 div.sk-parallel-item:first-child::after {align-self: flex-end;width: 50%;}#sk-container-id-1 div.sk-parallel-item:last-child::after {align-self: flex-start;width: 50%;}#sk-container-id-1 div.sk-parallel-item:only-child::after {width: 0;}#sk-container-id-1 div.sk-dashed-wrapped {border: 1px dashed gray;margin: 0 0.4em 0.5em 0.4em;box-sizing: border-box;padding-bottom: 0.4em;background-color: white;}#sk-container-id-1 div.sk-label label {font-family: monospace;font-weight: bold;display: inline-block;line-height: 1.2em;}#sk-container-id-1 div.sk-label-container {text-align: center;}#sk-container-id-1 div.sk-container {/* jupyter's `normalize.less` sets `[hidden] { display: none; }` but bootstrap.min.css set `[hidden] { display: none !important; }` so we also need the `!important` here to be able to override the default hidden behavior on the sphinx rendered scikit-learn.org. See: https://github.com/scikit-learn/scikit-learn/issues/21755 */display: inline-block !important;position: relative;}#sk-container-id-1 div.sk-text-repr-fallback {display: none;}</style><div id=\"sk-container-id-1\" class=\"sk-top-container\"><div class=\"sk-text-repr-fallback\"><pre>DBSCAN(eps=0.05)</pre><b>In a Jupyter environment, please rerun this cell to show the HTML representation or trust the notebook. <br />On GitHub, the HTML representation is unable to render, please try loading this page with nbviewer.org.</b></div><div class=\"sk-container\" hidden><div class=\"sk-item\"><div class=\"sk-estimator sk-toggleable\"><input class=\"sk-toggleable__control sk-hidden--visually\" id=\"sk-estimator-id-1\" type=\"checkbox\" checked><label for=\"sk-estimator-id-1\" class=\"sk-toggleable__label sk-toggleable__label-arrow\">DBSCAN</label><div class=\"sk-toggleable__content\"><pre>DBSCAN(eps=0.05)</pre></div></div></div></div></div>"
      ],
      "text/plain": [
       "DBSCAN(eps=0.05)"
      ]
     },
     "execution_count": 10,
     "metadata": {},
     "output_type": "execute_result"
    }
   ],
   "source": [
    "dbscan = DBSCAN(eps=0.05, min_samples=5)\n",
    "dbscan.fit(X)"
   ]
  },
  {
   "cell_type": "code",
   "execution_count": 11,
   "id": "561db7da",
   "metadata": {},
   "outputs": [
    {
     "data": {
      "text/plain": [
       "array([ 0,  1,  0,  2,  1,  2,  2,  3,  1,  1,  0,  4,  0,  0,  2,  0,  5,\n",
       "        1,  6,  5,  0,  2,  7,  0,  0, -1,  3,  0,  1,  0,  0,  0,  0,  2,\n",
       "        1,  2,  0,  0,  1, -1,  2,  0,  2,  0,  0, -1,  2,  2,  2,  7,  8,\n",
       "        5,  0,  7,  2,  0,  1,  0,  2,  5,  1,  2,  6,  6,  0,  1,  6,  0,\n",
       "        0,  5,  1,  0,  3,  0,  5,  1,  3, -1,  1,  5,  0, -1,  5,  2,  6,\n",
       "        5,  4,  1,  1,  0,  2,  1,  0,  3,  2,  5,  0,  2,  0,  2,  2,  0,\n",
       "        0,  0,  2,  5,  3,  1,  0,  2,  0,  0,  1,  2,  0,  0, -1,  0, -1,\n",
       "        0,  0,  3,  1,  0, -1, -1,  2,  5,  5,  0,  0,  0,  0, -1,  2,  1,\n",
       "        0,  2,  0,  1,  0,  0,  0,  0,  0,  1,  7,  0,  0,  0,  2,  1,  1,\n",
       "        1,  7,  0,  1,  0,  5,  1,  1,  0,  2,  2,  5,  1,  3,  3,  0,  0,\n",
       "        2,  0,  2,  1,  1,  5,  0,  1,  2,  0,  7, -1,  0,  1,  0,  0,  5,\n",
       "        0,  0,  0,  0,  6,  2,  0,  7,  7,  1,  1,  0,  7,  0,  0,  2,  7,\n",
       "        7,  3,  0,  5,  0,  2, -1,  7,  1,  0,  2,  1,  1,  0, -1,  2,  1,\n",
       "        2,  6,  1, -1,  1,  0,  0,  7,  1, -1,  0,  0,  7,  5,  0,  0,  5,\n",
       "        0,  6,  0,  0,  7,  6, -1, -1,  0,  0,  1,  1,  5,  0,  1,  3,  0,\n",
       "        7,  1,  1,  0,  2,  1,  0,  7,  0,  5,  1,  2,  2,  0,  1,  0,  1,\n",
       "        0,  0,  1,  0,  0,  5,  6,  0,  0,  5,  2,  1,  0,  5,  2, -1,  1,\n",
       "        0,  1,  0,  1,  1,  0,  2,  1,  0,  3,  0,  2,  0,  1,  5,  2,  1,\n",
       "        2,  7,  0,  0,  1, -1,  2,  0,  5,  0, -1,  1,  1,  7,  1,  1,  0,\n",
       "        5,  2,  1,  6,  0,  5, -1,  0,  0,  1,  2,  2,  0,  0,  0,  0,  2,\n",
       "       -1,  0,  5,  4,  1,  0,  0,  2,  1,  3,  5,  5,  5,  5,  0,  0,  3,\n",
       "        3, -1, -1,  2,  1,  0,  2,  2,  0,  7,  0,  2,  2,  5,  2,  0,  2,\n",
       "        1,  0,  1,  5,  0,  0, -1,  0,  0,  2,  5,  6,  5,  2,  3,  2,  0,\n",
       "        0,  5,  0,  5,  3,  0,  2,  0,  0, -1, -1,  0,  2,  1,  3,  0,  0,\n",
       "        7,  2,  6,  2,  1,  1,  2,  0,  0,  0, -1,  1, -1,  0,  0,  0,  5,\n",
       "        3,  0,  0,  1,  0,  2,  0,  0,  1,  0,  5,  2,  5,  7,  0,  0,  0,\n",
       "        1,  0,  0,  1,  0,  0,  2,  5,  2,  5,  0,  2,  1,  2,  1,  1,  0,\n",
       "        1,  3,  2,  7,  0,  0,  5,  1,  0,  7,  0,  2,  0,  6,  2,  1,  7,\n",
       "        0,  2,  0,  0,  0,  2,  0,  0,  3,  7,  0,  2,  0,  4,  3,  0,  0,\n",
       "        0,  1,  0,  2,  1,  1,  0,  0,  0,  1,  0,  1,  1,  5,  1,  2,  0,\n",
       "        1,  5, -1,  5,  0, -1,  5,  1,  3, -1,  0,  0,  0,  5,  0,  1,  2,\n",
       "        0,  1,  0,  0,  6,  3,  1,  1,  6,  0, -1,  5,  0,  2,  2,  2,  2,\n",
       "        1,  0, -1,  1,  2,  1,  0,  0,  2,  7,  7,  0,  0,  2,  0,  7,  1,\n",
       "        7,  0,  0,  0,  2,  5,  0,  5,  6,  1,  2,  0, -1,  0,  5,  0,  3,\n",
       "        0,  0,  2,  0, -1,  1,  0,  0,  5,  1,  3,  2,  5,  0,  0,  0,  7,\n",
       "        7, -1,  1,  0,  0,  1,  1,  1,  2,  2,  2,  3,  0,  0,  0,  7,  0,\n",
       "        0,  2,  2,  0,  6,  0,  0,  0,  5,  8,  1,  0,  1, -1,  1,  3,  0,\n",
       "        2,  7,  0,  0,  1,  1,  0,  0,  0,  2,  0,  1,  5,  0,  2,  5,  1,\n",
       "        5,  1,  5,  2,  5,  1,  0,  5,  2,  2,  1,  2,  2, -1,  1,  0,  0,\n",
       "        2,  2,  0,  0,  1,  3,  0,  0,  0,  0,  1,  1,  0,  5,  0, -1,  1,\n",
       "        0,  0,  5,  1,  1,  5,  6,  0,  0,  0,  1,  0,  1,  8,  1,  1,  1,\n",
       "        5,  2,  6,  0,  3,  2,  5,  5,  0,  0,  1,  0,  2,  1,  0,  0,  5,\n",
       "        1,  3,  0,  2,  0,  0,  0,  1,  0,  0,  1,  7,  2,  2,  1,  5,  3,\n",
       "        5, -1,  2,  1,  1,  0,  1,  0,  2,  2,  2,  0,  2,  1,  2,  2,  0,\n",
       "        0,  0,  4,  0,  1,  2,  3,  0,  1,  7,  2,  2,  1,  0,  0,  3,  0,\n",
       "        1,  0,  2,  4,  0,  1,  3,  2, -1, -1,  0,  2,  3,  5,  0,  0,  2,\n",
       "        7,  0,  0, -1, -1,  1,  0,  1,  0,  0, -1,  1,  0,  1,  1,  5,  6,\n",
       "        0,  2,  0, -1,  0, -1,  1,  0,  1,  2,  2,  1,  0,  0,  0,  0,  2,\n",
       "        4,  2,  1,  1,  5,  0,  6,  0,  5,  0,  0,  0,  2,  1,  2,  6,  1,\n",
       "        1,  0,  1,  2,  0,  1, -1,  1,  1,  0,  7,  5,  0,  0,  0, -1, -1,\n",
       "        1,  4,  5,  2,  3,  2,  0,  0,  1, -1,  0,  5,  5,  0,  1,  0, -1,\n",
       "        0,  0,  2,  0,  0,  0,  2,  0,  1,  0,  3,  5,  5,  1,  2,  2,  1,\n",
       "        5,  7, -1,  0,  2,  2,  0,  3,  0,  0,  2,  1,  0,  0,  7,  0,  1,\n",
       "        1,  1,  1,  0,  0,  1,  5,  2,  2,  0,  0,  2, -1,  5,  5,  1,  0,\n",
       "        0,  0,  0,  0,  1,  3,  0,  0,  1,  5,  1,  1,  0,  2,  2,  5,  0,\n",
       "        0,  1,  7,  2,  6,  0,  5, -1,  6,  0,  0,  1, -1,  0,  0,  0,  6,\n",
       "        0,  0, -1,  0,  0,  1,  0,  0,  1,  3,  5,  2, -1,  0,  0,  0,  0,\n",
       "        0,  5,  6,  0,  2,  1,  0,  2,  0,  5,  1,  2,  0,  0,  0, -1,  1,\n",
       "        2,  5,  4,  0,  1,  1,  6,  2,  5,  1,  5,  0,  0,  5],\n",
       "      dtype=int64)"
      ]
     },
     "execution_count": 11,
     "metadata": {},
     "output_type": "execute_result"
    }
   ],
   "source": [
    "#labels of all instances \n",
    "dbscan.labels_"
   ]
  },
  {
   "cell_type": "code",
   "execution_count": 12,
   "id": "40d3a386",
   "metadata": {},
   "outputs": [
    {
     "data": {
      "text/plain": [
       "array([  0,   1,   2,   4,   5,   6,   7,   8,   9,  10,  11,  12,  13,\n",
       "        14,  15,  16,  18,  19,  21,  22,  23,  24,  26,  27,  28,  29,\n",
       "        30,  31,  32,  33,  34,  36,  37,  38,  40,  41,  43,  44,  46,\n",
       "        47,  48,  49,  51,  52,  53,  54,  55,  56,  58,  60,  61,  62,\n",
       "        64,  65,  66,  67,  68,  69,  70,  72,  73,  74,  76,  78,  79,\n",
       "        80,  82,  83,  84,  85,  87,  88,  89,  90,  91,  92,  94,  95,\n",
       "        96,  97,  98,  99, 100, 101, 102, 103, 104, 105, 106, 107, 108,\n",
       "       109, 110, 111, 112, 113, 114, 115, 117, 119, 120, 121, 122, 123,\n",
       "       126, 127, 128, 129, 130, 131, 132, 134, 135, 136, 138, 139, 140,\n",
       "       141, 143, 144, 145, 146, 147, 148, 149, 150, 151, 152, 153, 154,\n",
       "       155, 156, 157, 158, 159, 160, 162, 163, 164, 165, 167, 168, 169,\n",
       "       170, 171, 172, 174, 175, 176, 177, 179, 182, 183, 184, 185, 186,\n",
       "       187, 188, 189, 190, 191, 192, 193, 195, 196, 197, 198, 200, 201,\n",
       "       202, 203, 204, 206, 207, 208, 209, 211, 213, 214, 215, 216, 217,\n",
       "       221, 222, 225, 226, 227, 228, 229, 231, 232, 233, 234, 235, 236,\n",
       "       237, 238, 239, 240, 241, 242, 243, 246, 248, 249, 250, 251, 252,\n",
       "       253, 254, 256, 257, 258, 259, 260, 261, 262, 263, 265, 266, 267,\n",
       "       268, 270, 271, 272, 273, 274, 275, 276, 277, 278, 279, 280, 281,\n",
       "       282, 286, 288, 289, 290, 291, 292, 294, 295, 296, 297, 298, 299,\n",
       "       300, 301, 302, 303, 304, 305, 306, 307, 308, 309, 310, 313, 314,\n",
       "       315, 317, 318, 320, 321, 322, 323, 324, 325, 326, 327, 328, 330,\n",
       "       331, 332, 333, 334, 335, 336, 337, 338, 339, 341, 342, 344, 345,\n",
       "       346, 347, 348, 349, 350, 351, 352, 353, 354, 355, 356, 357, 360,\n",
       "       361, 362, 363, 364, 365, 366, 367, 368, 369, 370, 371, 373, 374,\n",
       "       375, 376, 377, 378, 379, 381, 384, 385, 386, 387, 388, 389, 390,\n",
       "       391, 392, 393, 394, 395, 396, 397, 398, 399, 402, 403, 404, 405,\n",
       "       406, 407, 408, 409, 410, 411, 412, 413, 414, 415, 416, 417, 419,\n",
       "       421, 422, 424, 425, 427, 428, 429, 430, 431, 433, 435, 436, 438,\n",
       "       439, 440, 441, 442, 444, 445, 446, 447, 448, 449, 450, 452, 453,\n",
       "       454, 458, 459, 460, 461, 462, 464, 465, 466, 467, 468, 469, 470,\n",
       "       471, 472, 473, 474, 475, 476, 477, 478, 480, 481, 482, 483, 484,\n",
       "       485, 486, 487, 489, 490, 491, 492, 493, 494, 495, 496, 497, 498,\n",
       "       499, 500, 501, 502, 503, 505, 506, 507, 508, 510, 511, 513, 516,\n",
       "       517, 518, 520, 521, 522, 524, 525, 527, 528, 529, 530, 531, 532,\n",
       "       533, 534, 535, 538, 539, 541, 542, 543, 544, 545, 547, 548, 550,\n",
       "       551, 552, 553, 554, 555, 556, 557, 558, 559, 560, 561, 563, 565,\n",
       "       566, 567, 569, 570, 571, 572, 574, 575, 576, 578, 579, 580, 581,\n",
       "       583, 585, 586, 587, 589, 590, 591, 592, 593, 594, 595, 597, 598,\n",
       "       599, 600, 601, 602, 603, 604, 605, 606, 607, 608, 609, 610, 611,\n",
       "       612, 613, 614, 615, 618, 619, 620, 621, 623, 624, 626, 627, 628,\n",
       "       629, 630, 631, 632, 633, 634, 635, 636, 637, 638, 641, 642, 643,\n",
       "       644, 645, 646, 647, 649, 650, 651, 652, 653, 655, 656, 657, 658,\n",
       "       660, 661, 662, 663, 664, 665, 666, 667, 668, 669, 670, 671, 672,\n",
       "       673, 674, 675, 676, 677, 679, 680, 681, 682, 683, 684, 685, 686,\n",
       "       687, 688, 689, 690, 691, 694, 695, 696, 697, 698, 699, 701, 702,\n",
       "       703, 704, 705, 706, 707, 708, 710, 711, 712, 713, 714, 715, 716,\n",
       "       717, 719, 720, 721, 722, 723, 724, 725, 726, 727, 728, 729, 730,\n",
       "       731, 733, 734, 735, 736, 737, 738, 739, 740, 741, 742, 743, 745,\n",
       "       747, 748, 749, 750, 751, 752, 753, 754, 755, 756, 757, 758, 759,\n",
       "       760, 761, 762, 763, 764, 765, 766, 767, 768, 770, 771, 772, 775,\n",
       "       777, 780, 783, 784, 788, 789, 790, 791, 793, 794, 796, 797, 799,\n",
       "       800, 801, 803, 805, 807, 809, 810, 811, 812, 813, 815, 816, 817,\n",
       "       818, 819, 820, 821, 822, 823, 824, 825, 826, 827, 828, 829, 830,\n",
       "       831, 832, 834, 835, 836, 837, 840, 841, 843, 844, 845, 846, 847,\n",
       "       851, 852, 853, 854, 855, 856, 857, 858, 860, 861, 863, 864, 865,\n",
       "       868, 869, 871, 872, 873, 874, 875, 876, 877, 878, 879, 880, 881,\n",
       "       882, 883, 884, 885, 888, 890, 891, 892, 893, 894, 895, 896, 898,\n",
       "       899, 900, 901, 902, 903, 904, 905, 906, 908, 909, 910, 911, 912,\n",
       "       914, 915, 916, 917, 918, 919, 920, 921, 922, 923, 925, 926, 927,\n",
       "       928, 932, 934, 935, 937, 938, 940, 943, 946, 948, 949, 950, 951,\n",
       "       953, 956, 957, 958, 959, 960, 962, 963, 967, 968, 970, 971, 973,\n",
       "       974, 975, 976, 977, 978, 979, 980, 981, 983, 985, 986, 987, 988,\n",
       "       989, 990, 991, 992, 994, 995, 996, 997, 998], dtype=int64)"
      ]
     },
     "execution_count": 12,
     "metadata": {},
     "output_type": "execute_result"
    }
   ],
   "source": [
    "# indices of the core instances \n",
    "dbscan.core_sample_indices_"
   ]
  },
  {
   "cell_type": "code",
   "execution_count": 14,
   "id": "4dad3f42",
   "metadata": {},
   "outputs": [
    {
     "data": {
      "text/plain": [
       "array([[ 1.1770941 , -0.53217271],\n",
       "       [ 0.74291021,  0.70416035],\n",
       "       [ 0.72441233, -0.48518722],\n",
       "       ...,\n",
       "       [-0.93724998,  0.30481917],\n",
       "       [ 0.03462763,  0.30920181],\n",
       "       [ 0.19920523, -0.10353893]])"
      ]
     },
     "execution_count": 14,
     "metadata": {},
     "output_type": "execute_result"
    }
   ],
   "source": [
    "# Core instances them selves\n",
    "dbscan.components_"
   ]
  }
 ],
 "metadata": {
  "kernelspec": {
   "display_name": "Python 3 (ipykernel)",
   "language": "python",
   "name": "python3"
  },
  "language_info": {
   "codemirror_mode": {
    "name": "ipython",
    "version": 3
   },
   "file_extension": ".py",
   "mimetype": "text/x-python",
   "name": "python",
   "nbconvert_exporter": "python",
   "pygments_lexer": "ipython3",
   "version": "3.10.5"
  }
 },
 "nbformat": 4,
 "nbformat_minor": 5
}
